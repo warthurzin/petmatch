{
 "cells": [
  {
   "cell_type": "code",
   "execution_count": 4,
   "id": "e0c937d5",
   "metadata": {},
   "outputs": [
    {
     "name": "stdout",
     "output_type": "stream",
     "text": [
      "   Type         Name  Age  Breed1  Breed2  Gender  Color1  Color2  Color3  \\\n",
      "0     2       Nibble    3     299       0       1       1       7       0   \n",
      "1     2  No Name Yet    1     265       0       1       1       2       0   \n",
      "2     1       Brisco    1     307       0       1       2       7       0   \n",
      "3     1         Miko    4     307       0       2       1       2       0   \n",
      "4     1       Hunter    1     307       0       1       1       0       0   \n",
      "\n",
      "   MaturitySize  ...  Health  Quantity  Fee  State  \\\n",
      "0             1  ...       1         1  100  41326   \n",
      "1             2  ...       1         1    0  41401   \n",
      "2             2  ...       1         1    0  41326   \n",
      "3             2  ...       1         1  150  41401   \n",
      "4             2  ...       1         1    0  41326   \n",
      "\n",
      "                          RescuerID  VideoAmt  \\\n",
      "0  8480853f516546f6cf33aa88cd76c379         0   \n",
      "1  3082c7125d8fb66f7dd4bff4192c8b14         0   \n",
      "2  fa90fa5b1ee11c86938398b60abc32cb         0   \n",
      "3  9238e4f44c71a75282e62f7136c6b240         0   \n",
      "4  95481e953f8aed9ec3d16fc4509537e8         0   \n",
      "\n",
      "                                         Description      PetID PhotoAmt  \\\n",
      "0  Nibble is a 3+ month old ball of cuteness. He ...  86e1089a3      1.0   \n",
      "1  I just found it alone yesterday near my apartm...  6296e909a      2.0   \n",
      "2  Their pregnant mother was dumped by her irresp...  3422e4906      7.0   \n",
      "3  Good guard dog, very alert, active, obedience ...  5842f1ff5      8.0   \n",
      "4  This handsome yet cute boy is up for adoption....  850a43f90      3.0   \n",
      "\n",
      "   AdoptionSpeed  \n",
      "0              2  \n",
      "1              0  \n",
      "2              3  \n",
      "3              2  \n",
      "4              2  \n",
      "\n",
      "[5 rows x 24 columns]\n"
     ]
    }
   ],
   "source": [
    "import pandas as pd\n",
    "\n",
    "df = pd.read_csv(\"./petfinder-adoption-prediction/train/train.csv\")\n",
    "print(df.head())"
   ]
  },
  {
   "cell_type": "code",
   "execution_count": 8,
   "id": "d7ca6f6a",
   "metadata": {},
   "outputs": [
    {
     "name": "stdout",
     "output_type": "stream",
     "text": [
      "Index(['Type', 'Name', 'Age', 'Breed1', 'Breed2', 'Gender', 'Color1', 'Color2',\n",
      "       'Color3', 'MaturitySize', 'FurLength', 'Vaccinated', 'Dewormed',\n",
      "       'Sterilized', 'Health', 'Quantity', 'Fee', 'State', 'RescuerID',\n",
      "       'VideoAmt', 'Description', 'PetID', 'PhotoAmt', 'AdoptionSpeed'],\n",
      "      dtype='object')\n"
     ]
    }
   ],
   "source": [
    "print(df.columns)"
   ]
  },
  {
   "cell_type": "code",
   "execution_count": 9,
   "id": "45d74a8a",
   "metadata": {},
   "outputs": [
    {
     "name": "stdout",
     "output_type": "stream",
     "text": [
      "       Type  Age  Breed1  Breed2  Gender  Color1  Color2  Color3  \\\n",
      "14988     2    2     266       0       3       1       0       0   \n",
      "14989     2   60     265     264       3       1       4       7   \n",
      "14990     2    2     265     266       3       5       6       7   \n",
      "14991     2    9     266       0       2       4       7       0   \n",
      "14992     1    1     307     307       1       2       0       0   \n",
      "\n",
      "       MaturitySize  FurLength  ...  Dewormed  Sterilized  Health  Quantity  \\\n",
      "14988             2          2  ...         2           2       1         4   \n",
      "14989             2          2  ...         1           1       1         2   \n",
      "14990             3          2  ...         1           3       1         5   \n",
      "14991             1          1  ...         1           1       1         1   \n",
      "14992             2          1  ...         2           2       1         1   \n",
      "\n",
      "       Fee  State  VideoAmt  \\\n",
      "14988    0  41326         0   \n",
      "14989    0  41326         0   \n",
      "14990   30  41326         0   \n",
      "14991    0  41336         0   \n",
      "14992    0  41332         0   \n",
      "\n",
      "                                             Description PhotoAmt  \\\n",
      "14988  I have 4 kittens that need to be adopt urgentl...      3.0   \n",
      "14989  Serato(female cat- 3 color) is 4 years old and...      3.0   \n",
      "14990  Mix breed, good temperament kittens. Love huma...      5.0   \n",
      "14991  she is very shy..adventures and independent..s...      3.0   \n",
      "14992  Fili just loves laying around and also loves b...      1.0   \n",
      "\n",
      "       AdoptionSpeed  \n",
      "14988              2  \n",
      "14989              4  \n",
      "14990              3  \n",
      "14991              4  \n",
      "14992              3  \n",
      "\n",
      "[5 rows x 21 columns]\n"
     ]
    }
   ],
   "source": [
    "df = df.drop(columns=['Name', 'PetID', 'RescuerID'])\n",
    "print(df.tail())"
   ]
  },
  {
   "cell_type": "code",
   "execution_count": 10,
   "id": "81412e13",
   "metadata": {},
   "outputs": [
    {
     "name": "stdout",
     "output_type": "stream",
     "text": [
      "Index(['Type', 'Age', 'Breed1', 'Breed2', 'Gender', 'Color1', 'Color2',\n",
      "       'Color3', 'MaturitySize', 'FurLength', 'Vaccinated', 'Dewormed',\n",
      "       'Sterilized', 'Health', 'Quantity', 'Fee', 'State', 'VideoAmt',\n",
      "       'Description', 'PhotoAmt', 'AdoptionSpeed'],\n",
      "      dtype='object')\n"
     ]
    }
   ],
   "source": [
    "print(df.columns)"
   ]
  },
  {
   "cell_type": "code",
   "execution_count": 13,
   "id": "3ba11e4b",
   "metadata": {},
   "outputs": [],
   "source": [
    "import json\n",
    "\n",
    "columns = [col for col in df.columns if col != 'AdoptionSpeed']\n",
    "\n",
    "data_jsonl = [\n",
    "    {\n",
    "        \"label\": str(row['AdoptionSpeed']),\n",
    "        \"text\": \". \".join(f\"{col}: {row[col]}\" for col in columns)\n",
    "    }\n",
    "    for _, row in df.iterrows()\n",
    "]\n",
    "\n",
    "with open('pets_dataset.jsonl', 'w', encoding='utf-8') as f:\n",
    "    for entry in data_jsonl:\n",
    "        f.write(json.dumps(entry, ensure_ascii=False) + '\\n')"
   ]
  },
  {
   "cell_type": "code",
   "execution_count": 9,
   "id": "d4d15840",
   "metadata": {},
   "outputs": [
    {
     "name": "stdout",
     "output_type": "stream",
     "text": [
      "Breed dictionary: {1: 'Affenpinscher', 2: 'Afghan Hound', 3: 'Airedale Terrier', 4: 'Akbash', 5: 'Akita', 6: 'Alaskan Malamute', 7: 'American Bulldog', 8: 'American Eskimo Dog', 9: 'American Hairless Terrier', 10: 'American Staffordshire Terrier', 11: 'American Water Spaniel', 12: 'Anatolian Shepherd', 13: 'Appenzell Mountain Dog', 14: 'Australian Cattle Dog/Blue Heeler', 15: 'Australian Kelpie', 16: 'Australian Shepherd', 17: 'Australian Terrier', 18: 'Basenji', 19: 'Basset Hound', 20: 'Beagle', 21: 'Bearded Collie', 22: 'Beauceron', 23: 'Bedlington Terrier', 24: 'Belgian Shepherd Dog Sheepdog', 25: 'Belgian Shepherd Laekenois', 26: 'Belgian Shepherd Malinois', 27: 'Belgian Shepherd Tervuren', 28: 'Bernese Mountain Dog', 29: 'Bichon Frise', 30: 'Black and Tan Coonhound', 31: 'Black Labrador Retriever', 32: 'Black Mouth Cur', 33: 'Black Russian Terrier', 34: 'Bloodhound', 35: 'Blue Lacy', 36: 'Bluetick Coonhound', 37: 'Boerboel', 38: 'Bolognese', 39: 'Border Collie', 40: 'Border Terrier', 41: 'Borzoi', 42: 'Boston Terrier', 43: 'Bouvier des Flanders', 44: 'Boxer', 45: 'Boykin Spaniel', 46: 'Briard', 47: 'Brittany Spaniel', 48: 'Brussels Griffon', 49: 'Bull Terrier', 50: 'Bullmastiff', 51: 'Cairn Terrier', 52: 'Canaan Dog', 53: 'Cane Corso Mastiff', 54: 'Carolina Dog', 55: 'Catahoula Leopard Dog', 56: 'Cattle Dog', 57: 'Caucasian Sheepdog (Caucasian Ovtcharka)', 58: 'Cavalier King Charles Spaniel', 59: 'Chesapeake Bay Retriever', 60: 'Chihuahua', 61: 'Chinese Crested Dog', 62: 'Chinese Foo Dog', 63: 'Chinook', 64: 'Chocolate Labrador Retriever', 65: 'Chow Chow', 66: \"Cirneco dell'Etna\", 67: 'Clumber Spaniel', 68: 'Cockapoo', 69: 'Cocker Spaniel', 70: 'Collie', 71: 'Coonhound', 72: 'Corgi', 73: 'Coton de Tulear', 74: 'Curly-Coated Retriever', 75: 'Dachshund', 76: 'Dalmatian', 77: 'Dandi Dinmont Terrier', 78: 'Doberman Pinscher', 79: 'Dogo Argentino', 80: 'Dogue de Bordeaux', 81: 'Dutch Shepherd', 82: 'English Bulldog', 83: 'English Cocker Spaniel', 84: 'English Coonhound', 85: 'English Pointer', 86: 'English Setter', 87: 'English Shepherd', 88: 'English Springer Spaniel', 89: 'English Toy Spaniel', 90: 'Entlebucher', 91: 'Eskimo Dog', 92: 'Feist', 93: 'Field Spaniel', 94: 'Fila Brasileiro', 95: 'Finnish Lapphund', 96: 'Finnish Spitz', 97: 'Flat-coated Retriever', 98: 'Fox Terrier', 99: 'Foxhound', 100: 'French Bulldog', 101: 'Galgo Spanish Greyhound', 102: 'German Pinscher', 103: 'German Shepherd Dog', 104: 'German Shorthaired Pointer', 105: 'German Spitz', 106: 'German Wirehaired Pointer', 107: 'Giant Schnauzer', 108: 'Glen of Imaal Terrier', 109: 'Golden Retriever', 110: 'Gordon Setter', 111: 'Great Dane', 112: 'Great Pyrenees', 113: 'Greater Swiss Mountain Dog', 114: 'Greyhound', 115: 'Harrier', 116: 'Havanese', 117: 'Hound', 118: 'Hovawart', 119: 'Husky', 120: 'Ibizan Hound', 121: 'Illyrian Sheepdog', 122: 'Irish Setter', 123: 'Irish Terrier', 124: 'Irish Water Spaniel', 125: 'Irish Wolfhound', 126: 'Italian Greyhound', 127: 'Italian Spinone', 128: 'Jack Russell Terrier', 129: 'Jack Russell Terrier (Parson Russell Terrier)', 130: 'Japanese Chin', 131: 'Jindo', 132: 'Kai Dog', 133: 'Karelian Bear Dog', 134: 'Keeshond', 135: 'Kerry Blue Terrier', 136: 'Kishu', 137: 'Klee Kai', 138: 'Komondor', 139: 'Kuvasz', 140: 'Kyi Leo', 141: 'Labrador Retriever', 142: 'Lakeland Terrier', 143: 'Lancashire Heeler', 144: 'Leonberger', 145: 'Lhasa Apso', 146: 'Lowchen', 147: 'Maltese', 148: 'Manchester Terrier', 149: 'Maremma Sheepdog', 150: 'Mastiff', 151: 'McNab', 152: 'Miniature Pinscher', 153: 'Mountain Cur', 154: 'Mountain Dog', 155: 'Munsterlander', 156: 'Neapolitan Mastiff', 157: 'New Guinea Singing Dog', 158: 'Newfoundland Dog', 159: 'Norfolk Terrier', 160: 'Norwegian Buhund', 161: 'Norwegian Elkhound', 162: 'Norwegian Lundehund', 163: 'Norwich Terrier', 164: 'Nova Scotia Duck-Tolling Retriever', 165: 'Old English Sheepdog', 166: 'Otterhound', 167: 'Papillon', 168: 'Patterdale Terrier (Fell Terrier)', 169: 'Pekingese', 170: 'Peruvian Inca Orchid', 171: 'Petit Basset Griffon Vendeen', 172: 'Pharaoh Hound', 173: 'Pit Bull Terrier', 174: 'Plott Hound', 175: 'Podengo Portugueso', 176: 'Pointer', 177: 'Polish Lowland Sheepdog', 178: 'Pomeranian', 179: 'Poodle', 180: 'Portuguese Water Dog', 181: 'Presa Canario', 182: 'Pug', 183: 'Puli', 184: 'Pumi', 185: 'Rat Terrier', 186: 'Redbone Coonhound', 187: 'Retriever', 188: 'Rhodesian Ridgeback', 189: 'Rottweiler', 190: 'Saint Bernard', 191: 'Saluki', 192: 'Samoyed', 193: 'Sarplaninac', 194: 'Schipperke', 195: 'Schnauzer', 196: 'Scottish Deerhound', 197: 'Scottish Terrier Scottie', 198: 'Sealyham Terrier', 199: 'Setter', 200: 'Shar Pei', 201: 'Sheep Dog', 202: 'Shepherd', 203: 'Shetland Sheepdog Sheltie', 204: 'Shiba Inu', 205: 'Shih Tzu', 206: 'Siberian Husky', 207: 'Silky Terrier', 208: 'Skye Terrier', 209: 'Sloughi', 210: 'Smooth Fox Terrier', 211: 'South Russian Ovtcharka', 212: 'Spaniel', 213: 'Spitz', 214: 'Staffordshire Bull Terrier', 215: 'Standard Poodle', 216: 'Sussex Spaniel', 217: 'Swedish Vallhund', 218: 'Terrier', 219: 'Thai Ridgeback', 220: 'Tibetan Mastiff', 221: 'Tibetan Spaniel', 222: 'Tibetan Terrier', 223: 'Tosa Inu', 224: 'Toy Fox Terrier', 225: 'Treeing Walker Coonhound', 226: 'Vizsla', 227: 'Weimaraner', 228: 'Welsh Corgi', 229: 'Welsh Springer Spaniel', 230: 'Welsh Terrier', 231: 'West Highland White Terrier Westie', 232: 'Wheaten Terrier', 233: 'Whippet', 234: 'White German Shepherd', 235: 'Wire Fox Terrier', 236: 'Wire-haired Pointing Griffon', 237: 'Wirehaired Terrier', 238: 'Xoloitzcuintle/Mexican Hairless', 239: 'Yellow Labrador Retriever', 240: 'Yorkshire Terrier Yorkie', 307: 'Mixed Breed', 241: 'Abyssinian', 242: 'American Curl', 243: 'American Shorthair', 244: 'American Wirehair', 245: 'Applehead Siamese', 246: 'Balinese', 247: 'Bengal', 248: 'Birman', 249: 'Bobtail', 250: 'Bombay', 251: 'British Shorthair', 252: 'Burmese', 253: 'Burmilla', 254: 'Calico', 255: 'Canadian Hairless', 256: 'Chartreux', 257: 'Chausie', 258: 'Chinchilla', 259: 'Cornish Rex', 260: 'Cymric', 261: 'Devon Rex', 262: 'Dilute Calico', 263: 'Dilute Tortoiseshell', 264: 'Domestic Long Hair', 265: 'Domestic Medium Hair', 266: 'Domestic Short Hair', 267: 'Egyptian Mau', 268: 'Exotic Shorthair', 269: 'Extra-Toes Cat (Hemingway Polydactyl)', 270: 'Havana', 271: 'Himalayan', 272: 'Japanese Bobtail', 273: 'Javanese', 274: 'Korat', 275: 'LaPerm', 276: 'Maine Coon', 277: 'Manx', 278: 'Munchkin', 279: 'Nebelung', 280: 'Norwegian Forest Cat', 281: 'Ocicat', 282: 'Oriental Long Hair', 283: 'Oriental Short Hair', 284: 'Oriental Tabby', 285: 'Persian', 286: 'Pixie-Bob', 287: 'Ragamuffin', 288: 'Ragdoll', 289: 'Russian Blue', 290: 'Scottish Fold', 291: 'Selkirk Rex', 292: 'Siamese', 293: 'Siberian', 294: 'Silver', 295: 'Singapura', 296: 'Snowshoe', 297: 'Somali', 298: 'Sphynx (hairless cat)', 299: 'Tabby', 300: 'Tiger', 301: 'Tonkinese', 302: 'Torbie', 303: 'Tortoiseshell', 304: 'Turkish Angora', 305: 'Turkish Van', 306: 'Tuxedo'}\n",
      "Color dictionary: {1: 'Black', 2: 'Brown', 3: 'Golden', 4: 'Yellow', 5: 'Cream', 6: 'Gray', 7: 'White'}\n",
      "State dictionary: {41336: 'Johor', 41325: 'Kedah', 41367: 'Kelantan', 41401: 'Kuala Lumpur', 41415: 'Labuan', 41324: 'Melaka', 41332: 'Negeri Sembilan', 41335: 'Pahang', 41330: 'Perak', 41380: 'Perlis', 41327: 'Pulau Pinang', 41345: 'Sabah', 41342: 'Sarawak', 41326: 'Selangor', 41361: 'Terengganu'}\n"
     ]
    }
   ],
   "source": [
    "import json\n",
    "import pandas as pd\n",
    "\n",
    "breed_labels = pd.read_csv('./petfinder-adoption-prediction/BreedLabels.csv', header=0)\n",
    "color_labels = pd.read_csv('./petfinder-adoption-prediction/ColorLabels.csv', header=0, names=['id', 'color'])\n",
    "state_labels = pd.read_csv('./petfinder-adoption-prediction/StateLabels.csv', header=0, names=['id', 'state'])\n",
    "\n",
    "breed_dict = dict(zip(breed_labels['BreedID'], breed_labels['BreedName']))\n",
    "color_dict = dict(zip(color_labels['id'], color_labels['color']))\n",
    "state_dict = dict(zip(state_labels['id'], state_labels['state']))\n",
    "\n",
    "print(\"Breed dictionary:\", breed_dict)\n",
    "print(\"Color dictionary:\", color_dict)\n",
    "print(\"State dictionary:\", state_dict)\n",
    "\n",
    "def format_row(row):\n",
    "    breed1 = breed_dict.get(row['Breed1'], 'Unknown Breed')\n",
    "    breed2 = breed_dict.get(row['Breed2'], 'Unknown Breed')\n",
    "    color1 = color_dict.get(row['Color1'], 'Unknown Color')\n",
    "    color2 = color_dict.get(row['Color2'], 'Unknown Color')\n",
    "    color3 = color_dict.get(row['Color3'], 'Unknown Color')\n",
    "    state = state_dict.get(row['State'], 'Unknown State')\n",
    "    \n",
    "    animal_type = \"Dog\" if row['Type'] == 1 else \"Cat\"\n",
    "    \n",
    "    pairs = [\n",
    "        f\"Animal Type: {animal_type}\",\n",
    "        f\"Breed 1: {breed1}\",\n",
    "        f\"Breed 2: {breed2}\",\n",
    "        f\"Color 1: {color1}\",\n",
    "        f\"Color 2: {color2}\",\n",
    "        f\"Color 3: {color3}\",\n",
    "        f\"State: {state}\",\n",
    "        f\"Age: {row['Age']}\",\n",
    "        f\"Gender: {row['Gender']}\",\n",
    "        f\"MaturitySize: {row['MaturitySize']}\",\n",
    "        f\"FurLength: {row['FurLength']}\",\n",
    "        f\"Vaccinated: {row['Vaccinated']}\",\n",
    "        f\"Dewormed: {row['Dewormed']}\",\n",
    "        f\"Sterilized: {row['Sterilized']}\",\n",
    "        f\"Health: {row['Health']}\",\n",
    "        f\"Quantity: {row['Quantity']}\",\n",
    "        f\"Fee: {row['Fee']}\",\n",
    "        f\"VideoAmt: {row['VideoAmt']}\",\n",
    "        f\"Description: {row['Description']}\",\n",
    "        f\"PhotoAmt: {row['PhotoAmt']}\"\n",
    "    ]\n",
    "    \n",
    "    text = \". \".join([pair for pair in pairs if pd.notnull(pair)]).strip() + \".\"\n",
    "    \n",
    "    return {\n",
    "        \"label\": str(row['AdoptionSpeed']),\n",
    "        \"text\": text\n",
    "    }\n",
    "\n",
    "data_jsonl = df.apply(format_row, axis=1).tolist()\n",
    "\n",
    "with open('pets_dataset.jsonl', 'w', encoding='utf-8') as f:\n",
    "    for entry in data_jsonl:\n",
    "        f.write(json.dumps(entry, ensure_ascii=False) + '\\n')\n"
   ]
  },
  {
   "cell_type": "code",
   "execution_count": null,
   "id": "b737ea61",
   "metadata": {},
   "outputs": [],
   "source": []
  }
 ],
 "metadata": {
  "kernelspec": {
   "display_name": "Python 3",
   "language": "python",
   "name": "python3"
  },
  "language_info": {
   "codemirror_mode": {
    "name": "ipython",
    "version": 3
   },
   "file_extension": ".py",
   "mimetype": "text/x-python",
   "name": "python",
   "nbconvert_exporter": "python",
   "pygments_lexer": "ipython3",
   "version": "3.13.2"
  }
 },
 "nbformat": 4,
 "nbformat_minor": 5
}
